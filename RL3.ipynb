{
 "cells": [
  {
   "cell_type": "code",
   "execution_count": 9,
   "id": "3d658d35-cd77-4036-b90b-b9665a2d7aee",
   "metadata": {},
   "outputs": [],
   "source": [
    "#Optimiser les coefficients dans ton portefeuille d'actions\n",
    "import yfinance as yf\n",
    "import pandas as pd\n",
    "import numpy as np\n",
    "from sklearn.linear_model import LinearRegression\n",
    "import matplotlib.pyplot as plt\n"
   ]
  },
  {
   "cell_type": "code",
   "execution_count": 10,
   "id": "bdeff55b-1f09-437a-a86b-fb6dc954c0a3",
   "metadata": {},
   "outputs": [
    {
     "name": "stderr",
     "output_type": "stream",
     "text": [
      "[*********************100%%**********************]  4 of 4 completed"
     ]
    },
    {
     "name": "stdout",
     "output_type": "stream",
     "text": [
      "Ticker          AAPL    AMZN      GOOGL       MSFT\n",
      "Date                                              \n",
      "2010-01-04  6.461977  6.6950  15.666453  23.389400\n",
      "2010-01-05  6.473148  6.7345  15.597464  23.396954\n",
      "2010-01-06  6.370184  6.6125  15.204272  23.253374\n",
      "2010-01-07  6.358409  6.5000  14.850323  23.011541\n",
      "2010-01-08  6.400680  6.6760  15.048295  23.170244\n"
     ]
    },
    {
     "name": "stderr",
     "output_type": "stream",
     "text": [
      "\n"
     ]
    }
   ],
   "source": [
    "# Télécharger les données de prix pour plusieurs actifs\n",
    "tickers = ['AAPL', 'MSFT', 'GOOGL', 'AMZN']  # Exemple avec quelques actions technologiques\n",
    "data = yf.download(tickers, start='2010-01-01', end='2022-01-01')['Adj Close']\n",
    "\n",
    "# Afficher les premières lignes des données\n",
    "print(data.head())\n"
   ]
  },
  {
   "cell_type": "code",
   "execution_count": 11,
   "id": "3e547cee-cbb8-47c5-95f3-959d98b6f585",
   "metadata": {},
   "outputs": [
    {
     "name": "stdout",
     "output_type": "stream",
     "text": [
      "Ticker          AAPL      AMZN     GOOGL      MSFT\n",
      "Date                                              \n",
      "2010-01-05  0.001729  0.005900 -0.004404  0.000323\n",
      "2010-01-06 -0.015906 -0.018116 -0.025209 -0.006137\n",
      "2010-01-07 -0.001848 -0.017013 -0.023280 -0.010400\n",
      "2010-01-08  0.006648  0.027077  0.013331  0.006897\n",
      "2010-01-11 -0.008822 -0.024041 -0.001512 -0.012720\n"
     ]
    }
   ],
   "source": [
    "# Calculer les rendements journaliers\n",
    "returns = data.pct_change().dropna()\n",
    "\n",
    "# Afficher les premières lignes des rendements\n",
    "print(returns.head())\n"
   ]
  },
  {
   "cell_type": "code",
   "execution_count": 7,
   "id": "d809e263-d6a8-4917-b80c-730571658802",
   "metadata": {},
   "outputs": [
    {
     "name": "stdout",
     "output_type": "stream",
     "text": [
      "(3020, 4)\n",
      "[[ 0.00172878  0.00589989 -0.00440366  0.00032293]\n",
      " [-0.01590631 -0.01811563 -0.02520867 -0.00613667]\n",
      " [-0.00184846 -0.01701326 -0.02327961 -0.0103999 ]\n",
      " ...\n",
      " [ 0.00050204 -0.00855492 -0.00021818  0.00205138]\n",
      " [-0.0065783  -0.00328901 -0.00309911 -0.00769145]\n",
      " [-0.00353509 -0.0114294  -0.00922364 -0.00884087]]\n",
      "[0.001 0.001 0.001 ... 0.001 0.001 0.001]\n"
     ]
    }
   ],
   "source": [
    "\"\"\"# Définir la cible de rendement quotidien moyen\n",
    "target_return = 0.001\n",
    "\n",
    "# Préparer les données pour la régression linéaire\n",
    "X = returns.values #X est de shape nx4 car 4 parametres ici (d'info)\n",
    "print(X.shape)\n",
    "y = np.full(X.shape[0], target_return)\n",
    "print(X)\n",
    "print(y) #y c'est ce quon veut prédire\"\"\"\n",
    "\n"
   ]
  },
  {
   "cell_type": "code",
   "execution_count": 8,
   "id": "0e810851-f416-4937-becd-71a364b91996",
   "metadata": {},
   "outputs": [
    {
     "name": "stdout",
     "output_type": "stream",
     "text": [
      "AAPL: -0.0000\n",
      "MSFT: -0.0000\n",
      "GOOGL: -0.0000\n",
      "AMZN: 0.0000\n"
     ]
    }
   ],
   "source": [
    "\"\"\"# Créer et entraîner le modèle de régression linéaire\n",
    "model = LinearRegression()\n",
    "model.fit(X, y)\n",
    "\n",
    "# Extraire les coefficients du modèle (pondérations optimales)\n",
    "weights = model.coef_\n",
    "\n",
    "# Afficher les pondérations optimales\n",
    "for ticker, weight in zip(tickers, weights):\n",
    "    print(f'{ticker}: {weight:.4f}')\"\"\""
   ]
  },
  {
   "cell_type": "code",
   "execution_count": 12,
   "id": "140b5fc7-0b33-4171-b1ab-885b8ea77719",
   "metadata": {},
   "outputs": [],
   "source": [
    "#On a vu que définir un rendement fixe journalier c'est pas dingue\n",
    "#A la place, on peut se donner un rendement variable, comme celui d'un ETF\n",
    "#But : coller l'indice de reference. Donner des poids tq on se rapproche le + de ces rendements"
   ]
  },
  {
   "cell_type": "code",
   "execution_count": 13,
   "id": "45524edc-0eb8-41a7-b826-dec2725f3abe",
   "metadata": {},
   "outputs": [
    {
     "name": "stderr",
     "output_type": "stream",
     "text": [
      "[*********************100%%**********************]  1 of 1 completed"
     ]
    },
    {
     "name": "stdout",
     "output_type": "stream",
     "text": [
      "Date\n",
      "2010-01-04    1132.989990\n",
      "2010-01-05    1136.520020\n",
      "2010-01-06    1137.140015\n",
      "2010-01-07    1141.689941\n",
      "2010-01-08    1144.979980\n",
      "Name: Adj Close, dtype: float64\n"
     ]
    },
    {
     "name": "stderr",
     "output_type": "stream",
     "text": [
      "\n"
     ]
    }
   ],
   "source": [
    "sp500 = yf.download('^GSPC', start='2010-01-01', end='2022-01-01')['Adj Close']\n",
    "print(sp500.head())\n",
    "sp500_returns = sp500.pct_change().dropna()\n",
    "#Pour indexer correctement :\n",
    "returns = returns.loc[sp500_returns.index]\n",
    "sp500_returns = sp500_returns.loc[returns.index]"
   ]
  },
  {
   "cell_type": "code",
   "execution_count": 14,
   "id": "46bd1923-43af-4349-8f85-60bf37da49d6",
   "metadata": {},
   "outputs": [
    {
     "name": "stdout",
     "output_type": "stream",
     "text": [
      "Ticker          AAPL      AMZN     GOOGL      MSFT\n",
      "Date                                              \n",
      "2010-01-05  0.001729  0.005900 -0.004404  0.000323\n",
      "2010-01-06 -0.015906 -0.018116 -0.025209 -0.006137\n",
      "2010-01-07 -0.001848 -0.017013 -0.023280 -0.010400\n",
      "2010-01-08  0.006648  0.027077  0.013331  0.006897\n",
      "2010-01-11 -0.008822 -0.024041 -0.001512 -0.012720\n",
      "Date\n",
      "2010-01-05    0.003116\n",
      "2010-01-06    0.000546\n",
      "2010-01-07    0.004001\n",
      "2010-01-08    0.002882\n",
      "2010-01-11    0.001747\n",
      "Name: Adj Close, dtype: float64\n"
     ]
    }
   ],
   "source": [
    "# Afficher les premières lignes des rendements\n",
    "print(returns.head())\n",
    "print(sp500_returns.head())"
   ]
  },
  {
   "cell_type": "code",
   "execution_count": 15,
   "id": "0135a337-ae14-44aa-9975-0665bbd6a862",
   "metadata": {},
   "outputs": [
    {
     "name": "stdout",
     "output_type": "stream",
     "text": [
      "(3020, 4)\n",
      "(3020,)\n"
     ]
    }
   ],
   "source": [
    "# Diviser les données en caractéristiques (X) et cible (y)\n",
    "X = returns.values\n",
    "y = sp500_returns.values\n",
    "print(X.shape)\n",
    "print(y.shape)\n",
    "\n"
   ]
  },
  {
   "cell_type": "code",
   "execution_count": 16,
   "id": "e3d5e2b7-2858-4e94-8484-c42dcca53fef",
   "metadata": {},
   "outputs": [
    {
     "data": {
      "text/plain": [
       "LinearRegression()"
      ]
     },
     "execution_count": 16,
     "metadata": {},
     "output_type": "execute_result"
    }
   ],
   "source": [
    "# Créer et entraîner le modèle de régression linéaire\n",
    "model = LinearRegression()\n",
    "model.fit(X, y)\n",
    "\n"
   ]
  },
  {
   "cell_type": "code",
   "execution_count": 17,
   "id": "b039cd92-8018-4617-912d-c4bffb62e7dc",
   "metadata": {},
   "outputs": [
    {
     "name": "stdout",
     "output_type": "stream",
     "text": [
      "AAPL: 0.1630\n",
      "MSFT: 0.0432\n",
      "GOOGL: 0.1684\n",
      "AMZN: 0.2735\n"
     ]
    }
   ],
   "source": [
    "# Extraire les coefficients du modèle (pondérations optimales)\n",
    "weights = model.coef_\n",
    "\n",
    "# Afficher les pondérations optimales\n",
    "for ticker, weight in zip(tickers, weights):\n",
    "    print(f'{ticker}: {weight:.4f}')"
   ]
  },
  {
   "cell_type": "code",
   "execution_count": 19,
   "id": "2eb9b1bb-6eb3-4123-980d-3a4501bb1fcb",
   "metadata": {},
   "outputs": [
    {
     "data": {
      "image/png": "[encoded data removed]",
      "text/plain": [
       "<Figure size 1000x600 with 1 Axes>"
      ]
     },
     "metadata": {},
     "output_type": "display_data"
    }
   ],
   "source": [
    "# Calculer les rendements du portefeuille optimisé (optimisation au sens de la réplication)\n",
    "portfolio_returns = returns.dot(weights)\n",
    "\n",
    "# Comparer les rendements du portefeuille optimisé avec ceux de l'indice de référence\n",
    "plt.figure(figsize=(10, 6))\n",
    "plt.plot(np.cumsum(portfolio_returns), label='Portefeuille réplicatif', color='red')\n",
    "plt.plot(np.cumsum(sp500_returns), label='S&P 500', color='blue')\n",
    "plt.xlabel('Date')\n",
    "plt.ylabel('Rendement cumulatif')\n",
    "plt.legend()\n",
    "plt.show()\n"
   ]
  },
  {
   "cell_type": "code",
   "execution_count": null,
   "id": "bbf6c220-c12d-4976-864c-a75f40845329",
   "metadata": {},
   "outputs": [],
   "source": []
  }
 ],
 "metadata": {
  "kernelspec": {
   "display_name": "Python 3 (ipykernel)",
   "language": "python",
   "name": "python3"
  },
  "language_info": {
   "codemirror_mode": {
    "name": "ipython",
    "version": 3
   },
   "file_extension": ".py",
   "mimetype": "text/x-python",
   "name": "python",
   "nbconvert_exporter": "python",
   "pygments_lexer": "ipython3",
   "version": "3.9.13"
  }
 },
 "nbformat": 4,
 "nbformat_minor": 5
}
